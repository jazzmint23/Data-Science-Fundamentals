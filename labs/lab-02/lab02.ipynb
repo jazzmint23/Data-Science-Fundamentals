{
 "cells": [
  {
   "attachments": {},
   "cell_type": "markdown",
   "metadata": {},
   "source": [
    "## Lab 02 - Pandas and Data Visualization\n",
    "This notebook will introduce you to the basics of Pandas and Data Visualization. You will learn how to load data into a Pandas DataFrame, how to perform basic data analysis, and how to visualize data. The first part of this notebook will be an interactive tutorial, and the second part will be practice exercises for you to do! **Note that the practice problems will be checked when submitted!**"
   ]
  },
  {
   "cell_type": "markdown",
   "metadata": {},
   "source": [
    "#### Pandas\n",
    "Pandas is a popular open-source Python library that provides data structures and data analysis tools for working with structured data. Pandas is a versatile library that simplifies data manipulation, analysis, and exploration in Python. Some of its uses:\n",
    "* Tabular Data Handling\n",
    "* Data Cleaning and Transformation\n",
    "* Data Exploration\n",
    "* Data Import/Export\n",
    "* Data Visualization\n",
    "\n",
    "#### Matplotlib\n",
    "Matplotlib is a widely used for creating static, animated, and interactive visualizations. Whether you are conducting data analysis, scientific research, or data communication, Matplotlib helps you present your findings effectively and intuitively."
   ]
  },
  {
   "attachments": {},
   "cell_type": "markdown",
   "metadata": {},
   "source": [
    "### Pre-requisites"
   ]
  },
  {
   "cell_type": "code",
   "execution_count": 45,
   "metadata": {},
   "outputs": [
    {
     "name": "stdout",
     "output_type": "stream",
     "text": [
      "Requirement already satisfied: pandas in /Library/Frameworks/Python.framework/Versions/3.11/lib/python3.11/site-packages (2.1.1)\n",
      "Requirement already satisfied: numpy>=1.23.2 in /Library/Frameworks/Python.framework/Versions/3.11/lib/python3.11/site-packages (from pandas) (1.26.0)\n",
      "Requirement already satisfied: python-dateutil>=2.8.2 in /Library/Frameworks/Python.framework/Versions/3.11/lib/python3.11/site-packages (from pandas) (2.8.2)\n",
      "Requirement already satisfied: pytz>=2020.1 in /Library/Frameworks/Python.framework/Versions/3.11/lib/python3.11/site-packages (from pandas) (2023.3.post1)\n",
      "Requirement already satisfied: tzdata>=2022.1 in /Library/Frameworks/Python.framework/Versions/3.11/lib/python3.11/site-packages (from pandas) (2023.3)\n",
      "Requirement already satisfied: six>=1.5 in /Library/Frameworks/Python.framework/Versions/3.11/lib/python3.11/site-packages (from python-dateutil>=2.8.2->pandas) (1.16.0)\n",
      "Note: you may need to restart the kernel to use updated packages.\n"
     ]
    }
   ],
   "source": [
    "# In case you don't have pandas, uncomment\n",
    "# the following lines and run the cell\n",
    "\n",
    "%pip install pandas"
   ]
  },
  {
   "attachments": {},
   "cell_type": "markdown",
   "metadata": {},
   "source": [
    "### Overview\n",
    "In this notebook, you will be learning how to use the Pandas library by working with the `cookies.csv` file. \n",
    "\n",
    "#### `cookies.csv` file :\n",
    "\n",
    "The `cookies.csv` file contains information about cookies that were made in Rico's Bisquito's factory. \n",
    "\n",
    "The columns are the following:\n",
    "\n",
    "`cookie`: the name of a cookie\n",
    "`ingredients`: a list of the cookie's ingredients\n",
    "`calories`: the number of calories the created cookie has\n",
    "`radius`: the radius of the created cookie, in cm\n",
    "`cost_to_make`: the cost it took to make the created cookie, in dollars"
   ]
  },
  {
   "attachments": {},
   "cell_type": "markdown",
   "metadata": {},
   "source": [
    "### Reading the CSV file\n",
    "\n",
    "First, we need to import the Pandas library. We will be using the `pd` alias for the Pandas library."
   ]
  },
  {
   "cell_type": "code",
   "execution_count": 46,
   "metadata": {},
   "outputs": [],
   "source": [
    "#TODO: import pandas and matplotlib in this cell\n",
    "import pandas as pd\n",
    "\n"
   ]
  },
  {
   "attachments": {},
   "cell_type": "markdown",
   "metadata": {},
   "source": [
    "We will now look at the `cookies.csv` file. We will use the `pd.read_csv()` function to read in the CSV file. We will store the data in a variable called `cookies`."
   ]
  },
  {
   "cell_type": "code",
   "execution_count": 47,
   "metadata": {},
   "outputs": [],
   "source": [
    "#TODO: read the cookies.csv file into a pandas dataframe\n",
    "\n",
    "df = pd.read_csv('/Users/fcz/BU Google Drive/BU_Courses/CS 506/Data-Science-Fundamentals/labs/lab-02/cookies.csv')"
   ]
  },
  {
   "attachments": {},
   "cell_type": "markdown",
   "metadata": {},
   "source": [
    "#### Dataframe\n",
    "Dataframes are a data structure that Pandas uses to store data. Dataframes are similar to tables in a database. Dataframes have rows and columns. Each row represents a single data point, and each column represents a feature of the data point."
   ]
  },
  {
   "attachments": {},
   "cell_type": "markdown",
   "metadata": {},
   "source": [
    "We will then make sure we imported the data correctly by printing out the first 10 rows of the data, using the `head()` function."
   ]
  },
  {
   "cell_type": "code",
   "execution_count": 48,
   "metadata": {},
   "outputs": [
    {
     "data": {
      "text/html": [
       "<div>\n",
       "<style scoped>\n",
       "    .dataframe tbody tr th:only-of-type {\n",
       "        vertical-align: middle;\n",
       "    }\n",
       "\n",
       "    .dataframe tbody tr th {\n",
       "        vertical-align: top;\n",
       "    }\n",
       "\n",
       "    .dataframe thead th {\n",
       "        text-align: right;\n",
       "    }\n",
       "</style>\n",
       "<table border=\"1\" class=\"dataframe\">\n",
       "  <thead>\n",
       "    <tr style=\"text-align: right;\">\n",
       "      <th></th>\n",
       "      <th>cookie</th>\n",
       "      <th>ingredients</th>\n",
       "      <th>calories</th>\n",
       "      <th>radius</th>\n",
       "      <th>cost_to_make</th>\n",
       "    </tr>\n",
       "  </thead>\n",
       "  <tbody>\n",
       "    <tr>\n",
       "      <th>0</th>\n",
       "      <td>laddoo lemon</td>\n",
       "      <td>[\"flour\",\"lemon juice\",\"sugar\",\"ghee\"]</td>\n",
       "      <td>170</td>\n",
       "      <td>3.102</td>\n",
       "      <td>0.67</td>\n",
       "    </tr>\n",
       "    <tr>\n",
       "      <th>1</th>\n",
       "      <td>red velvet rauw</td>\n",
       "      <td>[\"flour\",\"cocoa powder\",\"butter\",\"red food col...</td>\n",
       "      <td>198</td>\n",
       "      <td>3.780</td>\n",
       "      <td>1.07</td>\n",
       "    </tr>\n",
       "    <tr>\n",
       "      <th>2</th>\n",
       "      <td>nevadito</td>\n",
       "      <td>[\"flour\",\"chocolate chips\",\"milk\",\"vanilla ext...</td>\n",
       "      <td>224</td>\n",
       "      <td>4.069</td>\n",
       "      <td>1.04</td>\n",
       "    </tr>\n",
       "    <tr>\n",
       "      <th>3</th>\n",
       "      <td>red velvet rauw</td>\n",
       "      <td>[\"flour\",\"cocoa powder\",\"butter\",\"red food col...</td>\n",
       "      <td>198</td>\n",
       "      <td>3.780</td>\n",
       "      <td>1.07</td>\n",
       "    </tr>\n",
       "    <tr>\n",
       "      <th>4</th>\n",
       "      <td>bad berry bunny</td>\n",
       "      <td>[\"flour\",\"blueberries\",\"sugar\",\"butter\"]</td>\n",
       "      <td>191</td>\n",
       "      <td>4.148</td>\n",
       "      <td>1.39</td>\n",
       "    </tr>\n",
       "  </tbody>\n",
       "</table>\n",
       "</div>"
      ],
      "text/plain": [
       "            cookie                                        ingredients  \\\n",
       "0     laddoo lemon             [\"flour\",\"lemon juice\",\"sugar\",\"ghee\"]   \n",
       "1  red velvet rauw  [\"flour\",\"cocoa powder\",\"butter\",\"red food col...   \n",
       "2         nevadito  [\"flour\",\"chocolate chips\",\"milk\",\"vanilla ext...   \n",
       "3  red velvet rauw  [\"flour\",\"cocoa powder\",\"butter\",\"red food col...   \n",
       "4  bad berry bunny           [\"flour\",\"blueberries\",\"sugar\",\"butter\"]   \n",
       "\n",
       "   calories  radius  cost_to_make  \n",
       "0       170   3.102          0.67  \n",
       "1       198   3.780          1.07  \n",
       "2       224   4.069          1.04  \n",
       "3       198   3.780          1.07  \n",
       "4       191   4.148          1.39  "
      ]
     },
     "execution_count": 48,
     "metadata": {},
     "output_type": "execute_result"
    }
   ],
   "source": [
    "#TODO: print the head of the dataframe\n",
    "\n",
    "df.head()"
   ]
  },
  {
   "attachments": {},
   "cell_type": "markdown",
   "metadata": {},
   "source": [
    "### Checking data types\n",
    "You can check the data types of each column using the `dtypes` attribute of the DataFrame."
   ]
  },
  {
   "cell_type": "code",
   "execution_count": 49,
   "metadata": {},
   "outputs": [
    {
     "data": {
      "text/plain": [
       "cookie           object\n",
       "ingredients      object\n",
       "calories          int64\n",
       "radius          float64\n",
       "cost_to_make    float64\n",
       "dtype: object"
      ]
     },
     "execution_count": 49,
     "metadata": {},
     "output_type": "execute_result"
    }
   ],
   "source": [
    "#TODO: check the data types of the columns\n",
    "\n",
    "df.dtypes"
   ]
  },
  {
   "cell_type": "markdown",
   "metadata": {},
   "source": [
    "Now, lets use use `info()` function to get more information about the Dataframe"
   ]
  },
  {
   "cell_type": "code",
   "execution_count": 50,
   "metadata": {},
   "outputs": [
    {
     "name": "stdout",
     "output_type": "stream",
     "text": [
      "<class 'pandas.core.frame.DataFrame'>\n",
      "RangeIndex: 129 entries, 0 to 128\n",
      "Data columns (total 5 columns):\n",
      " #   Column        Non-Null Count  Dtype  \n",
      "---  ------        --------------  -----  \n",
      " 0   cookie        129 non-null    object \n",
      " 1   ingredients   129 non-null    object \n",
      " 2   calories      129 non-null    int64  \n",
      " 3   radius        129 non-null    float64\n",
      " 4   cost_to_make  114 non-null    float64\n",
      "dtypes: float64(2), int64(1), object(2)\n",
      "memory usage: 5.2+ KB\n"
     ]
    }
   ],
   "source": [
    "# TODO: use info() to get information about datatypes and null values\n",
    "\n",
    "df.info()"
   ]
  },
  {
   "attachments": {},
   "cell_type": "markdown",
   "metadata": {},
   "source": [
    "### Cleaning the data\n",
    "Now that we have the data, we need to clean it. For example, some `cost_to_make` fields of some created cookies are missing. To resolve this, we can do many things: we can replace the missing data with the mean of the column, or we can get rid of the row entirely if the `cost_to_make` field is not set. "
   ]
  },
  {
   "cell_type": "code",
   "execution_count": 51,
   "metadata": {},
   "outputs": [
    {
     "name": "stdout",
     "output_type": "stream",
     "text": [
      "<class 'pandas.core.frame.DataFrame'>\n",
      "RangeIndex: 129 entries, 0 to 128\n",
      "Data columns (total 5 columns):\n",
      " #   Column        Non-Null Count  Dtype  \n",
      "---  ------        --------------  -----  \n",
      " 0   cookie        129 non-null    object \n",
      " 1   ingredients   129 non-null    object \n",
      " 2   calories      129 non-null    int64  \n",
      " 3   radius        129 non-null    float64\n",
      " 4   cost_to_make  129 non-null    float64\n",
      "dtypes: float64(2), int64(1), object(2)\n",
      "memory usage: 5.2+ KB\n"
     ]
    }
   ],
   "source": [
    "#TODO: clean the dataframe and \n",
    "# print the head again to make sure \n",
    "# the changes took effect\n",
    "\n",
    "df['cost_to_make'] = df['cost_to_make'].fillna(df['cost_to_make'].mean())\n",
    "df.head()\n",
    "df.info()\n",
    "\n"
   ]
  },
  {
   "attachments": {},
   "cell_type": "markdown",
   "metadata": {},
   "source": [
    "To also make sure we removed null values, we can check the number of null values in each column using the `isnull()` function."
   ]
  },
  {
   "cell_type": "code",
   "execution_count": 52,
   "metadata": {},
   "outputs": [
    {
     "data": {
      "text/plain": [
       "array([False, False, False, False, False])"
      ]
     },
     "execution_count": 52,
     "metadata": {},
     "output_type": "execute_result"
    }
   ],
   "source": [
    "#TODO: use the isnull method to make sure your data is clean\n",
    "\n",
    "df.columns.isnull()"
   ]
  },
  {
   "cell_type": "markdown",
   "metadata": {},
   "source": [
    "Next, lets check for duplicate rows using the `duplicated()` function. Then, remove those rows using `drop_duplicates()` function."
   ]
  },
  {
   "cell_type": "code",
   "execution_count": 53,
   "metadata": {},
   "outputs": [
    {
     "data": {
      "text/html": [
       "<div>\n",
       "<style scoped>\n",
       "    .dataframe tbody tr th:only-of-type {\n",
       "        vertical-align: middle;\n",
       "    }\n",
       "\n",
       "    .dataframe tbody tr th {\n",
       "        vertical-align: top;\n",
       "    }\n",
       "\n",
       "    .dataframe thead th {\n",
       "        text-align: right;\n",
       "    }\n",
       "</style>\n",
       "<table border=\"1\" class=\"dataframe\">\n",
       "  <thead>\n",
       "    <tr style=\"text-align: right;\">\n",
       "      <th></th>\n",
       "      <th>cookie</th>\n",
       "      <th>ingredients</th>\n",
       "      <th>calories</th>\n",
       "      <th>radius</th>\n",
       "      <th>cost_to_make</th>\n",
       "    </tr>\n",
       "  </thead>\n",
       "  <tbody>\n",
       "    <tr>\n",
       "      <th>0</th>\n",
       "      <td>laddoo lemon</td>\n",
       "      <td>[\"flour\",\"lemon juice\",\"sugar\",\"ghee\"]</td>\n",
       "      <td>170</td>\n",
       "      <td>3.102</td>\n",
       "      <td>0.67</td>\n",
       "    </tr>\n",
       "    <tr>\n",
       "      <th>1</th>\n",
       "      <td>red velvet rauw</td>\n",
       "      <td>[\"flour\",\"cocoa powder\",\"butter\",\"red food col...</td>\n",
       "      <td>198</td>\n",
       "      <td>3.780</td>\n",
       "      <td>1.07</td>\n",
       "    </tr>\n",
       "    <tr>\n",
       "      <th>2</th>\n",
       "      <td>nevadito</td>\n",
       "      <td>[\"flour\",\"chocolate chips\",\"milk\",\"vanilla ext...</td>\n",
       "      <td>224</td>\n",
       "      <td>4.069</td>\n",
       "      <td>1.04</td>\n",
       "    </tr>\n",
       "    <tr>\n",
       "      <th>4</th>\n",
       "      <td>bad berry bunny</td>\n",
       "      <td>[\"flour\",\"blueberries\",\"sugar\",\"butter\"]</td>\n",
       "      <td>191</td>\n",
       "      <td>4.148</td>\n",
       "      <td>1.39</td>\n",
       "    </tr>\n",
       "    <tr>\n",
       "      <th>5</th>\n",
       "      <td>orange ozuna</td>\n",
       "      <td>[\"flour\",\"orange juice\",\"sugar\",\"vegetable oil\"]</td>\n",
       "      <td>162</td>\n",
       "      <td>3.241</td>\n",
       "      <td>1.15</td>\n",
       "    </tr>\n",
       "    <tr>\n",
       "      <th>...</th>\n",
       "      <td>...</td>\n",
       "      <td>...</td>\n",
       "      <td>...</td>\n",
       "      <td>...</td>\n",
       "      <td>...</td>\n",
       "    </tr>\n",
       "    <tr>\n",
       "      <th>121</th>\n",
       "      <td>chocolate</td>\n",
       "      <td>[\"flour\",\"chocolate chips\",\"sugar\",\"butter\"]</td>\n",
       "      <td>227</td>\n",
       "      <td>4.085</td>\n",
       "      <td>1.42</td>\n",
       "    </tr>\n",
       "    <tr>\n",
       "      <th>122</th>\n",
       "      <td>laddoo lemon</td>\n",
       "      <td>[\"flour\",\"lemon juice\",\"sugar\",\"ghee\"]</td>\n",
       "      <td>170</td>\n",
       "      <td>3.916</td>\n",
       "      <td>2.00</td>\n",
       "    </tr>\n",
       "    <tr>\n",
       "      <th>125</th>\n",
       "      <td>nevadito</td>\n",
       "      <td>[\"flour\",\"chocolate chips\",\"milk\",\"vanilla ext...</td>\n",
       "      <td>211</td>\n",
       "      <td>3.915</td>\n",
       "      <td>1.61</td>\n",
       "    </tr>\n",
       "    <tr>\n",
       "      <th>126</th>\n",
       "      <td>red velvet rauw</td>\n",
       "      <td>[\"flour\",\"cocoa powder\",\"butter\",\"red food col...</td>\n",
       "      <td>197</td>\n",
       "      <td>3.906</td>\n",
       "      <td>1.33</td>\n",
       "    </tr>\n",
       "    <tr>\n",
       "      <th>127</th>\n",
       "      <td>bad berry bunny</td>\n",
       "      <td>[\"flour\",\"blueberries\",\"sugar\",\"butter\"]</td>\n",
       "      <td>199</td>\n",
       "      <td>4.281</td>\n",
       "      <td>1.36</td>\n",
       "    </tr>\n",
       "  </tbody>\n",
       "</table>\n",
       "<p>118 rows × 5 columns</p>\n",
       "</div>"
      ],
      "text/plain": [
       "              cookie                                        ingredients  \\\n",
       "0       laddoo lemon             [\"flour\",\"lemon juice\",\"sugar\",\"ghee\"]   \n",
       "1    red velvet rauw  [\"flour\",\"cocoa powder\",\"butter\",\"red food col...   \n",
       "2           nevadito  [\"flour\",\"chocolate chips\",\"milk\",\"vanilla ext...   \n",
       "4    bad berry bunny           [\"flour\",\"blueberries\",\"sugar\",\"butter\"]   \n",
       "5       orange ozuna   [\"flour\",\"orange juice\",\"sugar\",\"vegetable oil\"]   \n",
       "..               ...                                                ...   \n",
       "121        chocolate       [\"flour\",\"chocolate chips\",\"sugar\",\"butter\"]   \n",
       "122     laddoo lemon             [\"flour\",\"lemon juice\",\"sugar\",\"ghee\"]   \n",
       "125         nevadito  [\"flour\",\"chocolate chips\",\"milk\",\"vanilla ext...   \n",
       "126  red velvet rauw  [\"flour\",\"cocoa powder\",\"butter\",\"red food col...   \n",
       "127  bad berry bunny           [\"flour\",\"blueberries\",\"sugar\",\"butter\"]   \n",
       "\n",
       "     calories  radius  cost_to_make  \n",
       "0         170   3.102          0.67  \n",
       "1         198   3.780          1.07  \n",
       "2         224   4.069          1.04  \n",
       "4         191   4.148          1.39  \n",
       "5         162   3.241          1.15  \n",
       "..        ...     ...           ...  \n",
       "121       227   4.085          1.42  \n",
       "122       170   3.916          2.00  \n",
       "125       211   3.915          1.61  \n",
       "126       197   3.906          1.33  \n",
       "127       199   4.281          1.36  \n",
       "\n",
       "[118 rows x 5 columns]"
      ]
     },
     "execution_count": 53,
     "metadata": {},
     "output_type": "execute_result"
    }
   ],
   "source": [
    "# TODO: check for duplicate rows\n",
    "# then delete those rows form df\n",
    "\n",
    "df.duplicated()\n",
    "df.drop_duplicates()"
   ]
  },
  {
   "attachments": {},
   "cell_type": "markdown",
   "metadata": {},
   "source": [
    "### Parsing the data\n",
    "Now that we have the data, we could parse it to get the information we want. For example, we can check what types of cookies were made by using the `unique()` function on the `cookie` column."
   ]
  },
  {
   "cell_type": "code",
   "execution_count": 54,
   "metadata": {},
   "outputs": [
    {
     "data": {
      "text/plain": [
       "array(['laddoo lemon', 'red velvet rauw', 'nevadito', 'bad berry bunny',\n",
       "       'orange ozuna', 'minty miami', 'chocolate'], dtype=object)"
      ]
     },
     "execution_count": 54,
     "metadata": {},
     "output_type": "execute_result"
    }
   ],
   "source": [
    "#TODO: see what cookies are in the dataset\n",
    "\n",
    "df['cookie'].unique()"
   ]
  },
  {
   "attachments": {},
   "cell_type": "markdown",
   "metadata": {},
   "source": [
    "We can also check the number of cookies made by using the `value_counts()` function on the `cookie` column."
   ]
  },
  {
   "cell_type": "code",
   "execution_count": 42,
   "metadata": {},
   "outputs": [
    {
     "data": {
      "text/plain": [
       "129"
      ]
     },
     "execution_count": 42,
     "metadata": {},
     "output_type": "execute_result"
    }
   ],
   "source": [
    "#TODO: use value_counts() to see how many \n",
    "# cookies of each type there are\n",
    "\n",
    "df['cookie'].count()"
   ]
  },
  {
   "attachments": {},
   "cell_type": "markdown",
   "metadata": {},
   "source": [
    "Or maybe we don't like how long the names of the cookies are, so we can shorten them by using the `replace()` function on the `cookie` column.\n",
    "\n",
    "For example, let's try changing `\"bad berry bunny\"` to `\"bbb\"`."
   ]
  },
  {
   "cell_type": "code",
   "execution_count": 55,
   "metadata": {},
   "outputs": [
    {
     "data": {
      "text/html": [
       "<div>\n",
       "<style scoped>\n",
       "    .dataframe tbody tr th:only-of-type {\n",
       "        vertical-align: middle;\n",
       "    }\n",
       "\n",
       "    .dataframe tbody tr th {\n",
       "        vertical-align: top;\n",
       "    }\n",
       "\n",
       "    .dataframe thead th {\n",
       "        text-align: right;\n",
       "    }\n",
       "</style>\n",
       "<table border=\"1\" class=\"dataframe\">\n",
       "  <thead>\n",
       "    <tr style=\"text-align: right;\">\n",
       "      <th></th>\n",
       "      <th>cookie</th>\n",
       "      <th>ingredients</th>\n",
       "      <th>calories</th>\n",
       "      <th>radius</th>\n",
       "      <th>cost_to_make</th>\n",
       "    </tr>\n",
       "  </thead>\n",
       "  <tbody>\n",
       "    <tr>\n",
       "      <th>0</th>\n",
       "      <td>laddoo lemon</td>\n",
       "      <td>[\"flour\",\"lemon juice\",\"sugar\",\"ghee\"]</td>\n",
       "      <td>170</td>\n",
       "      <td>3.102</td>\n",
       "      <td>0.67</td>\n",
       "    </tr>\n",
       "    <tr>\n",
       "      <th>1</th>\n",
       "      <td>red velvet rauw</td>\n",
       "      <td>[\"flour\",\"cocoa powder\",\"butter\",\"red food col...</td>\n",
       "      <td>198</td>\n",
       "      <td>3.780</td>\n",
       "      <td>1.07</td>\n",
       "    </tr>\n",
       "    <tr>\n",
       "      <th>2</th>\n",
       "      <td>nevadito</td>\n",
       "      <td>[\"flour\",\"chocolate chips\",\"milk\",\"vanilla ext...</td>\n",
       "      <td>224</td>\n",
       "      <td>4.069</td>\n",
       "      <td>1.04</td>\n",
       "    </tr>\n",
       "    <tr>\n",
       "      <th>3</th>\n",
       "      <td>red velvet rauw</td>\n",
       "      <td>[\"flour\",\"cocoa powder\",\"butter\",\"red food col...</td>\n",
       "      <td>198</td>\n",
       "      <td>3.780</td>\n",
       "      <td>1.07</td>\n",
       "    </tr>\n",
       "    <tr>\n",
       "      <th>4</th>\n",
       "      <td>bbb</td>\n",
       "      <td>[\"flour\",\"blueberries\",\"sugar\",\"butter\"]</td>\n",
       "      <td>191</td>\n",
       "      <td>4.148</td>\n",
       "      <td>1.39</td>\n",
       "    </tr>\n",
       "  </tbody>\n",
       "</table>\n",
       "</div>"
      ],
      "text/plain": [
       "            cookie                                        ingredients  \\\n",
       "0     laddoo lemon             [\"flour\",\"lemon juice\",\"sugar\",\"ghee\"]   \n",
       "1  red velvet rauw  [\"flour\",\"cocoa powder\",\"butter\",\"red food col...   \n",
       "2         nevadito  [\"flour\",\"chocolate chips\",\"milk\",\"vanilla ext...   \n",
       "3  red velvet rauw  [\"flour\",\"cocoa powder\",\"butter\",\"red food col...   \n",
       "4              bbb           [\"flour\",\"blueberries\",\"sugar\",\"butter\"]   \n",
       "\n",
       "   calories  radius  cost_to_make  \n",
       "0       170   3.102          0.67  \n",
       "1       198   3.780          1.07  \n",
       "2       224   4.069          1.04  \n",
       "3       198   3.780          1.07  \n",
       "4       191   4.148          1.39  "
      ]
     },
     "execution_count": 55,
     "metadata": {},
     "output_type": "execute_result"
    }
   ],
   "source": [
    "#TODO: change bad berry bunny data elements to \"bbb\"\n",
    "\n",
    "df['cookie'] = df['cookie'].replace('bad berry bunny','bbb')\n",
    "\n",
    "df.head()"
   ]
  },
  {
   "attachments": {},
   "cell_type": "markdown",
   "metadata": {},
   "source": [
    "We may even like the original names better, but we may want to get rid of the spaces. For example, we can change `\"orange ozuna\"` to `\"orange_ozuna\"`. Here, we will use the `str.replace()` function."
   ]
  },
  {
   "cell_type": "code",
   "execution_count": 57,
   "metadata": {},
   "outputs": [],
   "source": [
    "#TODO: adjust orange ozuna as described\n",
    "\n",
    "df['cookie'] = df['cookie'].str.replace( 'orange ozuna', 'orange_ozuna')"
   ]
  },
  {
   "attachments": {},
   "cell_type": "markdown",
   "metadata": {},
   "source": [
    "We may even just want to keep the first word of the cookie name. For example, we can change `\"orange_ozuna\"` to `\"orange\"`."
   ]
  },
  {
   "cell_type": "code",
   "execution_count": 14,
   "metadata": {},
   "outputs": [],
   "source": [
    "#TODO: adjust all cookies so only the first word\n",
    "# is used as the cookie name"
   ]
  },
  {
   "attachments": {},
   "cell_type": "markdown",
   "metadata": {},
   "source": [
    "Another thing that may come to mind is that maybe getting flour could cost more money due to inflation, so we have to adjust our `cost_to_make` values. We can do this by using the `apply()` function on the `cost_to_make` column."
   ]
  },
  {
   "cell_type": "code",
   "execution_count": 15,
   "metadata": {},
   "outputs": [],
   "source": [
    "#Don't edit this method\n",
    "def adjust_cost(cost):\n",
    "    return cost + 0.5\n",
    "\n",
    "#TODO: use apply() to adjust the cost_to_make column."
   ]
  },
  {
   "attachments": {},
   "cell_type": "markdown",
   "metadata": {},
   "source": [
    "And we can do a lot more things! We will see these concepts be used in the next homework assignment, along with a couple new ones to show you how powerful Pandas is."
   ]
  },
  {
   "attachments": {},
   "cell_type": "markdown",
   "metadata": {},
   "source": [
    "### More complicated operations: Grouping, Filtering, Aggregating"
   ]
  },
  {
   "cell_type": "markdown",
   "metadata": {},
   "source": [
    "Before trying out these complicated operations, lets first sort the sort the df by the radius of the cookies using the `sort_values()` function."
   ]
  },
  {
   "cell_type": "code",
   "execution_count": 16,
   "metadata": {},
   "outputs": [],
   "source": [
    "# TODO: sort the df using sort_values(by='Column', ascending=False)"
   ]
  },
  {
   "attachments": {},
   "cell_type": "markdown",
   "metadata": {},
   "source": [
    "We may also want to group data by certain attributes. This can be done by using `groupby()`. This method takes in a column name, and groups the data by the values in that column. For example, we can group the data by the `cookie` column."
   ]
  },
  {
   "cell_type": "code",
   "execution_count": 17,
   "metadata": {},
   "outputs": [],
   "source": [
    "#TODO: group by cookie type"
   ]
  },
  {
   "attachments": {},
   "cell_type": "markdown",
   "metadata": {},
   "source": [
    "We can also group by multiple columns. For example, we can group the data by the `cookie` and `ingredients` columns."
   ]
  },
  {
   "cell_type": "code",
   "execution_count": 18,
   "metadata": {},
   "outputs": [],
   "source": [
    "#TODO: group by cookie type and ingredients"
   ]
  },
  {
   "attachments": {},
   "cell_type": "markdown",
   "metadata": {},
   "source": [
    "We may also want to filter the data. For example, we can filter the data to only show the cookies that have a radius greater than 4.3 cm. We can do this by indexing the DataFrame with a boolean expression."
   ]
  },
  {
   "cell_type": "code",
   "execution_count": 19,
   "metadata": {},
   "outputs": [],
   "source": [
    "#TODO: filter using the boolean expression"
   ]
  },
  {
   "attachments": {},
   "cell_type": "markdown",
   "metadata": {},
   "source": [
    "We may even want to use `groupby()` and filter idea together! For example, we can filter the data to only show the cookies that have a radius greater than 4.3 cm, and group the data by the `cookie` column."
   ]
  },
  {
   "cell_type": "code",
   "execution_count": 20,
   "metadata": {},
   "outputs": [],
   "source": [
    "#TODO: filter the data using the boolean expression\n",
    "# then group by cookie column"
   ]
  },
  {
   "attachments": {},
   "cell_type": "markdown",
   "metadata": {},
   "source": [
    "We may also want to aggregate the data. For example, we can aggregate the data by looking at the ratio of calories to radius. We can do this by using indexing and the `apply()` function."
   ]
  },
  {
   "cell_type": "code",
   "execution_count": 21,
   "metadata": {},
   "outputs": [],
   "source": [
    "#TODO: add a column to the dataframe that is the\n",
    "# calories per radius"
   ]
  },
  {
   "attachments": {},
   "cell_type": "markdown",
   "metadata": {},
   "source": [
    "Or we can just get rid of this column if we find it useless. We can do this by using the `drop()` function or indexing."
   ]
  },
  {
   "cell_type": "code",
   "execution_count": 22,
   "metadata": {},
   "outputs": [],
   "source": [
    "#TODO: drop the created column"
   ]
  },
  {
   "attachments": {},
   "cell_type": "markdown",
   "metadata": {},
   "source": [
    "### Visualizing the data"
   ]
  },
  {
   "attachments": {},
   "cell_type": "markdown",
   "metadata": {},
   "source": [
    "We can also visualize the data. For example, we can visualize the data by plotting the radius of the cookies against the cost to make the cookies. We can do this by using the `plot()` function."
   ]
  },
  {
   "cell_type": "code",
   "execution_count": 23,
   "metadata": {},
   "outputs": [],
   "source": [
    "#TODO: plot the radius (x) versus cost to make (y)"
   ]
  },
  {
   "attachments": {},
   "cell_type": "markdown",
   "metadata": {},
   "source": [
    "We may even want to get more specific and visualize the shape of a distribution of the `laddoo lemon`'s radius by making a boxplot. We can also do this by using the `plot()` function."
   ]
  },
  {
   "cell_type": "code",
   "execution_count": 24,
   "metadata": {},
   "outputs": [],
   "source": [
    "#TODO: add the described boxplot\n",
    "# remember that you changed the name from laddoo lemon to laddoo"
   ]
  },
  {
   "attachments": {},
   "cell_type": "markdown",
   "metadata": {},
   "source": [
    "Alternatively, we can create a histogram to visualize the distribution of the `laddoo lemon`'s radius. We can also do this by using the `plot()` function."
   ]
  },
  {
   "cell_type": "code",
   "execution_count": 25,
   "metadata": {},
   "outputs": [],
   "source": [
    "#TODO: add the described histogram"
   ]
  },
  {
   "attachments": {},
   "cell_type": "markdown",
   "metadata": {},
   "source": [
    "Things can get more complicated too. Maybe we want to analyze the behaviors of `bad berry bunny` and `laddoo lemon`'s radius using a boxplot. But this time, let's try it using the alternative `boxplot()` function. For practice, try doing it with `plot()` too!"
   ]
  },
  {
   "cell_type": "code",
   "execution_count": 26,
   "metadata": {},
   "outputs": [],
   "source": [
    "#TODO: analyze the two cookie's radius in a boxplot"
   ]
  },
  {
   "attachments": {},
   "cell_type": "markdown",
   "metadata": {},
   "source": [
    "### Practice Problems\n",
    "Now that you have learned some of Pandas' capabilities, let's try some practice problems! **This is the part that will be checked when you submit it!**"
   ]
  },
  {
   "attachments": {},
   "cell_type": "markdown",
   "metadata": {},
   "source": [
    "#### Problem 1\n",
    "How many cookies were made? (Hint: use the `shape` attribute)"
   ]
  },
  {
   "cell_type": "code",
   "execution_count": 27,
   "metadata": {},
   "outputs": [],
   "source": [
    "#Add your code here"
   ]
  },
  {
   "attachments": {},
   "cell_type": "markdown",
   "metadata": {},
   "source": [
    "#### Problem 2\n",
    "Add a column to the DataFrame that has the value `True` if the cookie has a radius greater than 4 cm, and `False` otherwise. (Hint: use the `apply()` function)"
   ]
  },
  {
   "cell_type": "code",
   "execution_count": 28,
   "metadata": {},
   "outputs": [],
   "source": [
    "#Add your code here"
   ]
  },
  {
   "attachments": {},
   "cell_type": "markdown",
   "metadata": {},
   "source": [
    "#### Problem 3\n",
    "\n",
    "Group the data by the `cookie` column, and find the average radius of each cookie. (Hint: use the `groupby()` and `transform()` function). Add this column to the DataFrame."
   ]
  },
  {
   "cell_type": "code",
   "execution_count": 29,
   "metadata": {},
   "outputs": [],
   "source": [
    "#Add your code here"
   ]
  },
  {
   "attachments": {},
   "cell_type": "markdown",
   "metadata": {},
   "source": [
    "#### Problem 4\n",
    "Create a new DataFrame that only contains the cookies that have the ingredient `\"chocolate chips\"`. (Hint: use the `str.contains()` function)"
   ]
  },
  {
   "cell_type": "code",
   "execution_count": 30,
   "metadata": {},
   "outputs": [],
   "source": [
    "#Add your code here"
   ]
  },
  {
   "attachments": {},
   "cell_type": "markdown",
   "metadata": {},
   "source": [
    "#### Problem 5\n",
    "\n",
    "Create a boxplot of `cost_to_make` for all cookies except `chocolate` using the `boxplot()` function."
   ]
  },
  {
   "cell_type": "code",
   "execution_count": 31,
   "metadata": {},
   "outputs": [],
   "source": [
    "#Add your code here"
   ]
  },
  {
   "attachments": {},
   "cell_type": "markdown",
   "metadata": {},
   "source": [
    "#### Problem 6\n",
    "\n",
    "Create a histogram of the `bad berry bunny`'s calories using the `plot()` function."
   ]
  },
  {
   "cell_type": "code",
   "execution_count": 32,
   "metadata": {},
   "outputs": [],
   "source": [
    "#Add your code here"
   ]
  },
  {
   "cell_type": "markdown",
   "metadata": {},
   "source": [
    "#### Problem 7\n",
    "\n",
    "Calculate the average calories per cookie type and display the result in a bar chart."
   ]
  },
  {
   "cell_type": "code",
   "execution_count": 33,
   "metadata": {},
   "outputs": [],
   "source": [
    "#Add your code here"
   ]
  },
  {
   "cell_type": "markdown",
   "metadata": {},
   "source": [
    "#### Problem 8\n",
    "\n",
    "Find the top 3 most expensive cookies in terms of cost_to_make"
   ]
  },
  {
   "cell_type": "code",
   "execution_count": 34,
   "metadata": {},
   "outputs": [],
   "source": [
    "#Add your code here"
   ]
  }
 ],
 "metadata": {
  "kernelspec": {
   "display_name": "Python 3",
   "language": "python",
   "name": "python3"
  },
  "language_info": {
   "codemirror_mode": {
    "name": "ipython",
    "version": 3
   },
   "file_extension": ".py",
   "mimetype": "text/x-python",
   "name": "python",
   "nbconvert_exporter": "python",
   "pygments_lexer": "ipython3",
   "version": "3.11.5"
  },
  "orig_nbformat": 4,
  "vscode": {
   "interpreter": {
    "hash": "63639127d0784e8e4de1a76bcacd89583be09d9f82d600966cd9457d183cbbf7"
   }
  }
 },
 "nbformat": 4,
 "nbformat_minor": 2
}
